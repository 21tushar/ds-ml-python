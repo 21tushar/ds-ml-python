{
 "cells": [
  {
   "cell_type": "markdown",
   "metadata": {},
   "source": [
    "# Mean, Median, Mode, and introducing NumPy"
   ]
  },
  {
   "cell_type": "markdown",
   "metadata": {},
   "source": [
    "## Mean vs. Median"
   ]
  },
  {
   "cell_type": "markdown",
   "metadata": {},
   "source": [
    "Let's create some fake income data, centered around 27,000 with a normal distribution and standard deviation of 15,000, with 10,000 data points. (We'll discuss those terms more later, if you're not familiar with them.)\n",
    "\n",
    "Then, compute the mean (average) - it should be close to 27,000:"
   ]
  },
  {
   "cell_type": "code",
   "execution_count": 2,
   "metadata": {
    "collapsed": false
   },
   "outputs": [
    {
     "data": {
      "text/plain": [
       "27152.849824577792"
      ]
     },
     "execution_count": 2,
     "metadata": {},
     "output_type": "execute_result"
    }
   ],
   "source": [
    "import numpy as np\n",
    "\n",
    "incomes = np.random.normal(27000, 15000, 10000)\n",
    "np.mean(incomes)"
   ]
  },
  {
   "cell_type": "markdown",
   "metadata": {},
   "source": [
    "We can segment the income data into 50 buckets, and plot it as a histogram:"
   ]
  },
  {
   "cell_type": "code",
   "execution_count": 2,
   "metadata": {
    "collapsed": false
   },
   "outputs": [
    {
     "data": {
      "image/png": "[encoded data removed]",
      "text/plain": [
       "<matplotlib.figure.Figure at 0x44ffdd8>"
      ]
     },
     "metadata": {},
     "output_type": "display_data"
    }
   ],
   "source": [
    "%matplotlib inline\n",
    "import matplotlib.pyplot as plt\n",
    "plt.hist(incomes, 50)\n",
    "plt.show()"
   ]
  },
  {
   "cell_type": "markdown",
   "metadata": {},
   "source": [
    "Now compute the median - since we have a nice, even distribution it too should be close to 27,000:"
   ]
  },
  {
   "cell_type": "code",
   "execution_count": 3,
   "metadata": {
    "collapsed": false
   },
   "outputs": [
    {
     "data": {
      "text/plain": [
       "27159.985229669175"
      ]
     },
     "execution_count": 3,
     "metadata": {},
     "output_type": "execute_result"
    }
   ],
   "source": [
    "np.median(incomes)"
   ]
  },
  {
   "cell_type": "markdown",
   "metadata": {},
   "source": [
    "Now we'll add Donald Trump into the mix. Darn income inequality!"
   ]
  },
  {
   "cell_type": "code",
   "execution_count": 4,
   "metadata": {
    "collapsed": false
   },
   "outputs": [],
   "source": [
    "incomes = np.append(incomes, [1000000000])"
   ]
  },
  {
   "cell_type": "markdown",
   "metadata": {},
   "source": [
    "The median won't change much, but the mean does:"
   ]
  },
  {
   "cell_type": "code",
   "execution_count": 5,
   "metadata": {
    "collapsed": false
   },
   "outputs": [
    {
     "data": {
      "text/plain": [
       "27163.131505581998"
      ]
     },
     "execution_count": 5,
     "metadata": {},
     "output_type": "execute_result"
    }
   ],
   "source": [
    "np.median(incomes)"
   ]
  },
  {
   "cell_type": "code",
   "execution_count": 6,
   "metadata": {
    "collapsed": false
   },
   "outputs": [
    {
     "data": {
      "text/plain": [
       "127160.38252311043"
      ]
     },
     "execution_count": 6,
     "metadata": {},
     "output_type": "execute_result"
    }
   ],
   "source": [
    "np.mean(incomes)"
   ]
  },
  {
   "cell_type": "markdown",
   "metadata": {},
   "source": [
    "## Mode"
   ]
  },
  {
   "cell_type": "markdown",
   "metadata": {},
   "source": [
    "Next, let's generate some fake age data for 500 people:"
   ]
  },
  {
   "cell_type": "code",
   "execution_count": 3,
   "metadata": {
    "collapsed": false
   },
   "outputs": [
    {
     "data": {
      "text/plain": [
       "array([35, 55, 66, 28, 34, 18, 35, 84, 48, 23, 88, 50, 50, 37, 59, 82, 50,\n",
       "       50, 58, 81, 70, 22, 43, 59, 86, 37, 20, 78, 39, 88, 77, 27, 83, 78,\n",
       "       39, 23, 65, 72, 18, 42, 61, 30, 39, 60, 63, 24, 62, 43, 54, 63, 58,\n",
       "       63, 54, 49, 38, 67, 71, 52, 26, 56, 54, 66, 85, 89, 84, 89, 73, 27,\n",
       "       86, 48, 42, 20, 81, 62, 59, 88, 47, 85, 65, 87, 72, 66, 18, 37, 18,\n",
       "       72, 89, 56, 41, 27, 64, 52, 70, 72, 61, 45, 44, 71, 20, 78, 32, 77,\n",
       "       55, 73, 31, 50, 62, 76, 72, 51, 80, 25, 59, 83, 42, 30, 23, 57, 51,\n",
       "       43, 28, 52, 57, 60, 83, 79, 19, 27, 43, 41, 25, 69, 42, 41, 58, 41,\n",
       "       33, 51, 72, 24, 49, 73, 29, 45, 31, 27, 30, 71, 31, 72, 71, 20, 80,\n",
       "       39, 81, 26, 70, 76, 44, 57, 24, 60, 72, 45, 19, 46, 62, 36, 56, 36,\n",
       "       62, 31, 69, 54, 46, 32, 87, 28, 52, 56, 60, 32, 86, 50, 50, 25, 24,\n",
       "       86, 57, 36, 52, 25, 84, 60, 83, 57, 72, 26, 33, 58, 88, 69, 30, 84,\n",
       "       18, 86, 45, 18, 52, 75, 19, 40, 65, 78, 44, 37, 28, 35, 44, 57, 47,\n",
       "       19, 49, 54, 27, 39, 57, 31, 82, 48, 43, 49, 51, 87, 67, 78, 65, 59,\n",
       "       87, 89, 50, 51, 40, 67, 78, 68, 71, 51, 66, 77, 52, 37, 85, 78, 66,\n",
       "       87, 79, 70, 63, 60, 73, 79, 55, 77, 57, 79, 70, 76, 35, 55, 36, 84,\n",
       "       58, 86, 86, 20, 48, 53, 34, 18, 88, 58, 45, 47, 32, 63, 67, 84, 20,\n",
       "       61, 25, 67, 58, 39, 50, 32, 44, 62, 68, 46, 46, 63, 29, 37, 22, 48,\n",
       "       73, 75, 84, 48, 49, 34, 78, 76, 73, 80, 18, 79, 50, 60, 57, 40, 23,\n",
       "       61, 56, 25, 76, 25, 89, 55, 54, 22, 68, 76, 30, 67, 56, 63, 71, 76,\n",
       "       60, 87, 33, 77, 56, 38, 67, 43, 58, 83, 57, 33, 77, 80, 58, 67, 44,\n",
       "       72, 36, 87, 42, 60, 86, 89, 29, 43, 41, 75, 54, 47, 32, 77, 77, 37,\n",
       "       58, 60, 50, 25, 41, 44, 40, 61, 39, 66, 22, 24, 74, 86, 83, 24, 57,\n",
       "       69, 82, 19, 75, 34, 53, 88, 47, 53, 66, 20, 76, 61, 66, 31, 52, 88,\n",
       "       24, 39, 34, 55, 26, 32, 70, 33, 82, 84, 75, 28, 81, 70, 63, 64, 60,\n",
       "       47, 33, 59, 75, 67, 18, 61, 23, 73, 27, 56, 69, 31, 49, 33, 53, 18,\n",
       "       62, 33, 48, 55, 80, 54, 54, 66, 38, 49, 70, 89, 52, 89, 72, 35, 80,\n",
       "       87, 33, 32, 31, 28, 88, 19, 54, 44, 76, 22, 69, 27, 67, 65, 52, 78,\n",
       "       18, 85, 72, 57, 89, 58, 23, 28, 36, 23, 69, 82, 69, 58, 65, 32, 44,\n",
       "       31, 57, 69, 89, 61, 79, 43])"
      ]
     },
     "execution_count": 3,
     "metadata": {},
     "output_type": "execute_result"
    }
   ],
   "source": [
    "ages = np.random.randint(18, high=90, size=500)\n",
    "ages"
   ]
  },
  {
   "cell_type": "code",
   "execution_count": 4,
   "metadata": {
    "collapsed": false
   },
   "outputs": [
    {
     "data": {
      "text/plain": [
       "ModeResult(mode=array([57]), count=array([13]))"
      ]
     },
     "execution_count": 4,
     "metadata": {},
     "output_type": "execute_result"
    }
   ],
   "source": [
    "from scipy import stats\n",
    "stats.mode(ages)"
   ]
  },
  {
   "cell_type": "code",
   "execution_count": null,
   "metadata": {
    "collapsed": false
   },
   "outputs": [],
   "source": []
  }
 ],
 "metadata": {
  "kernelspec": {
   "display_name": "Python 2",
   "language": "python",
   "name": "python2"
  },
  "language_info": {
   "codemirror_mode": {
    "name": "ipython",
    "version": 2
   },
   "file_extension": ".py",
   "mimetype": "text/x-python",
   "name": "python",
   "nbconvert_exporter": "python",
   "pygments_lexer": "ipython2",
   "version": "2.7.11"
  }
 },
 "nbformat": 4,
 "nbformat_minor": 0
}
